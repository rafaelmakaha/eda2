{
 "cells": [
  {
   "cell_type": "markdown",
   "metadata": {},
   "source": [
    "### Selection Sort\n",
    "\n",
    "    O menor elemento irá para o começo do vetor"
   ]
  },
  {
   "cell_type": "code",
   "execution_count": 6,
   "metadata": {},
   "outputs": [
    {
     "name": "stdout",
     "output_type": "stream",
     "text": [
      "[-3, 2, 5, 7, 19, 23, 25]\n"
     ]
    }
   ],
   "source": [
    "v = [5,-3,25,7,2,19,23]\n",
    "i = 0\n",
    "\n",
    "while i < len(v):\n",
    "    min = i\n",
    "    j = i+1\n",
    "    while j < len(v):\n",
    "        if v[j] < v[min]:\n",
    "            min = j\n",
    "        j+=1\n",
    "    if min != i:\n",
    "        aux = v[min]\n",
    "        v[min] = v[i]\n",
    "        v[i] = aux\n",
    "    i+=1\n",
    "    \n",
    "print(v)"
   ]
  },
  {
   "cell_type": "markdown",
   "metadata": {},
   "source": [
    "### Insertion Sort\n",
    "    Faz a varredura do vetor dividindo-o em ordenado e não ordenado. O primeiro item do vetor não ordenado é mandado para o ordenado e colocado na posição correta."
   ]
  },
  {
   "cell_type": "code",
   "execution_count": 8,
   "metadata": {},
   "outputs": [
    {
     "name": "stdout",
     "output_type": "stream",
     "text": [
      "[-3, 2, 5, 7, 19, 23, 25]\n"
     ]
    }
   ],
   "source": [
    "v = [5,-3,25,7,2,19,23]\n",
    "i = 0\n",
    "\n",
    "while i < len(v):\n",
    "    j = i\n",
    "    while j != 0 and v[j] < v[j - 1]:\n",
    "        aux = v[j]\n",
    "        v[j] = v[j - 1]\n",
    "        v[j - 1] = aux\n",
    "        j -= 1\n",
    "    i += 1\n",
    "    \n",
    "print(v)"
   ]
  },
  {
   "cell_type": "markdown",
   "metadata": {},
   "source": [
    "### Bubble Sort\n",
    "    Envia o maior valor para o final do vetor."
   ]
  },
  {
   "cell_type": "code",
   "execution_count": 11,
   "metadata": {},
   "outputs": [
    {
     "name": "stdout",
     "output_type": "stream",
     "text": [
      "[-3, 2, 5, 7, 19, 23, 25]\n"
     ]
    }
   ],
   "source": [
    "v = [5,-3,25,7,2,19,23]\n",
    "i = len(v)\n",
    "\n",
    "while i != 0:\n",
    "    j = 0\n",
    "    while j != i - 1:\n",
    "        if v[j] > v[j + 1]:\n",
    "            aux = v[j + 1]\n",
    "            v[j + 1] = v[j]\n",
    "            v[j] = aux\n",
    "        j += 1\n",
    "    i -= 1\n",
    "    \n",
    "print(v)"
   ]
  },
  {
   "cell_type": "markdown",
   "metadata": {},
   "source": [
    "### Shell Sort\n",
    "    Divide o vetor em setores menores para ordená-los entre si."
   ]
  },
  {
   "cell_type": "code",
   "execution_count": 18,
   "metadata": {},
   "outputs": [
    {
     "name": "stdout",
     "output_type": "stream",
     "text": [
      "4\n"
     ]
    },
    {
     "ename": "TypeError",
     "evalue": "list indices must be integers or slices, not float",
     "output_type": "error",
     "traceback": [
      "\u001b[0;31m---------------------------------------------------------------------------\u001b[0m",
      "\u001b[0;31mTypeError\u001b[0m                                 Traceback (most recent call last)",
      "\u001b[0;32m<ipython-input-18-218d87acf0c2>\u001b[0m in \u001b[0;36m<module>\u001b[0;34m()\u001b[0m\n\u001b[1;32m      6\u001b[0m     \u001b[0mi\u001b[0m \u001b[0;34m=\u001b[0m \u001b[0mh\u001b[0m\u001b[0;34m\u001b[0m\u001b[0m\n\u001b[1;32m      7\u001b[0m     \u001b[0;32mwhile\u001b[0m \u001b[0mi\u001b[0m \u001b[0;34m<\u001b[0m \u001b[0mn\u001b[0m\u001b[0;34m:\u001b[0m\u001b[0;34m\u001b[0m\u001b[0m\n\u001b[0;32m----> 8\u001b[0;31m         \u001b[0mc\u001b[0m \u001b[0;34m=\u001b[0m \u001b[0mv\u001b[0m\u001b[0;34m[\u001b[0m\u001b[0mi\u001b[0m\u001b[0;34m]\u001b[0m\u001b[0;34m\u001b[0m\u001b[0m\n\u001b[0m\u001b[1;32m      9\u001b[0m         \u001b[0mj\u001b[0m \u001b[0;34m=\u001b[0m \u001b[0mi\u001b[0m\u001b[0;34m\u001b[0m\u001b[0m\n\u001b[1;32m     10\u001b[0m         \u001b[0;32mwhile\u001b[0m \u001b[0mj\u001b[0m \u001b[0;34m>=\u001b[0m \u001b[0mh\u001b[0m \u001b[0;32mand\u001b[0m \u001b[0mv\u001b[0m\u001b[0;34m[\u001b[0m\u001b[0mj\u001b[0m \u001b[0;34m-\u001b[0m \u001b[0mh\u001b[0m\u001b[0;34m]\u001b[0m \u001b[0;34m>\u001b[0m \u001b[0mc\u001b[0m \u001b[0;34m:\u001b[0m\u001b[0;34m\u001b[0m\u001b[0m\n",
      "\u001b[0;31mTypeError\u001b[0m: list indices must be integers or slices, not float"
     ]
    }
   ],
   "source": [
    "v = [5,-3,25,7,2,19,23,8]\n",
    "n = len(v)\n",
    "h = int(n/2)\n",
    "\n",
    "while h > 0:\n",
    "    i = h\n",
    "    while i < n:\n",
    "        c = v[i]\n",
    "        j = i\n",
    "        while j >= h and v[j - h] > c :\n",
    "            v[j] = v[j - h]\n",
    "            j = j - h\n",
    "        v[j] = c\n",
    "        i +=1\n",
    "    h = h/2\n",
    "    \n",
    "print(v)"
   ]
  },
  {
   "cell_type": "code",
   "execution_count": null,
   "metadata": {},
   "outputs": [],
   "source": []
  }
 ],
 "metadata": {
  "kernelspec": {
   "display_name": "Python 3",
   "language": "python",
   "name": "python3"
  },
  "language_info": {
   "codemirror_mode": {
    "name": "ipython",
    "version": 3
   },
   "file_extension": ".py",
   "mimetype": "text/x-python",
   "name": "python",
   "nbconvert_exporter": "python",
   "pygments_lexer": "ipython3",
   "version": "3.6.5"
  }
 },
 "nbformat": 4,
 "nbformat_minor": 2
}
